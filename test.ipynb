import pandas as pd
import numpy as np
print("Welcome to the Capstone Project Course!")
